{
 "cells": [
  {
   "cell_type": "code",
   "execution_count": 1,
   "metadata": {},
   "outputs": [
    {
     "name": "stderr",
     "output_type": "stream",
     "text": [
      "/usr/lib/python3/dist-packages/requests/__init__.py:89: RequestsDependencyWarning: urllib3 (1.26.11) or chardet (3.0.4) doesn't match a supported version!\n",
      "  warnings.warn(\"urllib3 ({}) or chardet ({}) doesn't match a supported \"\n"
     ]
    }
   ],
   "source": [
    "#import modules\n",
    "import selenium\n",
    "import pandas\n",
    "from selenium import webdriver\n",
    "from webdriver_manager.chrome import ChromeDriverManager\n",
    "import warnings \n",
    "warnings.filterwarnings('ignore')\n",
    "from selenium.webdriver.common.by import By\n",
    "from selenium.webdriver.common.action_chains import ActionChains\n",
    "import bs4 as bs\n",
    "import requests\n",
    "import re\n"
   ]
  },
  {
   "cell_type": "code",
   "execution_count": 2,
   "metadata": {},
   "outputs": [
    {
     "name": "stdout",
     "output_type": "stream",
     "text": [
      "\n"
     ]
    }
   ],
   "source": [
    "driver  = webdriver.Chrome(ChromeDriverManager().install())\n",
    "url = \"https://www.linkedin.com/jobs/search/?distance=25&geoId=91000000&keywords=full%20stack%20developer\"\n",
    "driver.get(url)\n",
    "div_cont = driver.find_element(By.CLASS_NAME, \"base-search-card__info\")\n",
    "div_cont_html = div_cont.get_attribute('innerHTML')\n",
    "soup = bs.BeautifulSoup(div_cont_html, \"html.parser\")\n",
    "#job title\n",
    "job_title = (soup.find(\"h3\", class_=\"base-search-card__title\").text).strip()\n",
    "#job location\n",
    "job_location = (soup.find(\"span\", class_=\"job-search-card__location\").text).strip()\n",
    "#company\n",
    "company = (soup.find(\"a\", class_=\"hidden-nested-link\").text).strip()\n",
    "#benefits\n",
    "benefit = (soup.find(\"span\", class_=\"result-benefits__text\").text).strip()\n",
    "#link\n",
    "link =(driver.find_element(By.CLASS_NAME, \"hidden-nested-link\").get_attribute('href'))\n",
    "print(link)\n",
    "#create a dictionary\n",
    "job = {\n",
    "    1 :{\n",
    "        \"Job Title\" : job_title,\n",
    "        \"Job Location\": job_location,\n",
    "        \"Company\" : company,\n",
    "        \"Advantage\" : benefit,\n",
    "        \"Link\" : link\n",
    "    }\n",
    "}\n",
    "#get multiple elements by classname\n",
    "div_conts = driver.find_elements(By.CLASS_NAME, \"base-search-card__info\")\n",
    "len(div_conts)"
   ]
  },
  {
   "cell_type": "code",
   "execution_count": 11,
   "metadata": {},
   "outputs": [
    {
     "data": {
      "text/plain": [
       "{1: {'Job Title': 'Junior Software Engineer',\n",
       "  'Job Location': 'Brussels, Brussels Region, Belgium',\n",
       "  'Company': 'Vivid Resourcing Ltd',\n",
       "  'Advantage': 'Actively Hiring',\n",
       "  'Link': 'https://uk.linkedin.com/company/vivid-resourcing-ltd?trk=public_jobs_jserp-result_job-search-card-subtitle'}}"
      ]
     },
     "execution_count": 11,
     "metadata": {},
     "output_type": "execute_result"
    }
   ],
   "source": [
    "job"
   ]
  }
 ],
 "metadata": {
  "kernelspec": {
   "display_name": "Python 3.8.10 64-bit",
   "language": "python",
   "name": "python3"
  },
  "language_info": {
   "codemirror_mode": {
    "name": "ipython",
    "version": 3
   },
   "file_extension": ".py",
   "mimetype": "text/x-python",
   "name": "python",
   "nbconvert_exporter": "python",
   "pygments_lexer": "ipython3",
   "version": "3.8.10"
  },
  "orig_nbformat": 4,
  "vscode": {
   "interpreter": {
    "hash": "916dbcbb3f70747c44a77c7bcd40155683ae19c65e1c03b4aa3499c5328201f1"
   }
  }
 },
 "nbformat": 4,
 "nbformat_minor": 2
}
